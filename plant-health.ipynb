{
 "cells": [
  {
   "cell_type": "markdown",
   "metadata": {},
   "source": [
    "### Final Project For Kevin Rocca ###"
   ]
  },
  {
   "cell_type": "markdown",
   "metadata": {},
   "source": [
    "### Introduction ###\n",
    "Lorem ipsum"
   ]
  },
  {
   "cell_type": "code",
   "execution_count": 1,
   "metadata": {},
   "outputs": [],
   "source": [
    "import numpy as np\n",
    "import tensorflow as tf\n",
    "from tensorflow.keras.models import Sequential\n",
    "from tensorflow.keras.layers import Dense\n",
    "from tensorflow.keras.activations import linear, relu, sigmoid, elu\n",
    "from tensorflow.keras.losses import SparseCategoricalCrossentropy\n",
    "from tensorflow.keras.optimizers import Adam\n",
    "import matplotlib.pyplot as plt\n",
    "import os"
   ]
  },
  {
   "cell_type": "code",
   "execution_count": 2,
   "metadata": {},
   "outputs": [],
   "source": [
    "def zscore_normalize_features(X):\n",
    "  \"\"\"\n",
    "  computes  X, zcore normalized by column\n",
    "  \n",
    "  Args:\n",
    "    X (ndarray (m,n))     : input data, m examples, n features\n",
    "    \n",
    "  Returns:\n",
    "    X_norm (ndarray (m,n)): input normalized by column\n",
    "    mu (ndarray (n,))     : mean of each feature\n",
    "    sigma (ndarray (n,))  : standard deviation of each feature\n",
    "  \"\"\"\n",
    "  # find the mean of each column/feature\n",
    "  mu     = np.mean(X, axis=0)                 # mu will have shape (n,)\n",
    "  # find the standard deviation of each column/feature\n",
    "  sigma  = np.std(X, axis=0)                  # sigma will have shape (n,)\n",
    "  # element-wise, subtract mu for that column from each example, divide by std for that column\n",
    "  X_norm = (X - mu) / sigma      \n",
    "\n",
    "  return (X_norm)"
   ]
  },
  {
   "cell_type": "code",
   "execution_count": 7,
   "metadata": {},
   "outputs": [],
   "source": [
    "def load_and_process_data(filename):\n",
    "  '''\n",
    "  Load the data from the file given im {filename}.\n",
    "  Ignore the fist value which just contains a timestamp\n",
    "  and convert the plant health into a number 0-2. The function also\n",
    "  balances this particular dataset, removing any skews.\n",
    "  Args:\n",
    "  filename : string with the name of the file to load\n",
    "  Returns:\n",
    "  X_train (np array (N, m)) : Training data, N * .6 examples by m features\n",
    "  y_train (np array (N, 1)) : Testing data, N * .6 examples by 1 feature\n",
    "  \n",
    "  X_test (np array (N, m)) : Training data, N * .2 examples by m features\n",
    "  y_test (np array (N, 1)) : Testing data, N * .2 examples by 1 feature\n",
    "  \n",
    "  X_cv (np array (N, m)) : Training data, N * .2 examples by m features\n",
    "  y_cv (np array (N, 1)) : Testing data, N * .2 examples by 1 feature\n",
    "  '''\n",
    "  data = np.genfromtxt(filename, delimiter=',', dtype=str)\n",
    "  X = data[1:, 1:13].astype(float) # skip first row, first and last columns\n",
    "  y = data[1:, 13:] # skip first row and only grab the last column\n",
    "\n",
    "  # Normalize the data\n",
    "  X_Norm = zscore_normalize_features(X)\n",
    "\n",
    "  # Convert the health_status string to an integer\n",
    "  label_map = {\n",
    "    \"Healthy\": 0,\n",
    "    \"Moderate Stress\": 1,\n",
    "    \"High Stress\": 2\n",
    "  }\n",
    "  y_mapped = np.array([label_map[label] for label in y.flatten()])\n",
    "  \n",
    "  # Check whether there is a skew in the dataset and how bad it is.\n",
    "  print(f\"\\nAmount of healthy plants in the original dataset {np.count_nonzero(y_mapped == 0)}\")\n",
    "  print(f\"Amount of moderately stressed plants in the original dataset {np.count_nonzero(y_mapped == 1)}\")\n",
    "  print(f\"Amount of highly stressed plants in the original dataset {np.count_nonzero(y_mapped == 2)}\")\n",
    "\n",
    "  # Address class imbalance. Get indices for each class\n",
    "  idx_healthy = np.where(y_mapped == 0)[0]\n",
    "  idx_high_stress = np.where(y_mapped == 2)[0]\n",
    "\n",
    "  # Duplicate 100 random indices from the pool of healthy plants\n",
    "  np.random.seed(1)\n",
    "  duplicated_healthy = np.random.choice(idx_healthy, 100, replace=True)\n",
    "  \n",
    "  # Add the examples. Use vstack for 2D numpy arrays \n",
    "  for idx in duplicated_healthy:\n",
    "    X_Norm = np.vstack([X_Norm, X_Norm[idx]])\n",
    "    y_mapped =np.append(y_mapped, y_mapped[idx])\n",
    "\n",
    "  # Find 100 random indices from high stress plants\n",
    "  reduced_high_stress = np.random.choice(idx_high_stress, 100, replace=False)\n",
    "  # Sort the indices so when we remove them, we can remove from the furthest right index to the\n",
    "  # furthest left one, thus preserving order.\n",
    "  reduced_high_stress = sorted(reduced_high_stress, reverse=True)\n",
    "\n",
    "  for idx in reduced_high_stress:\n",
    "    X_Norm = np.delete(X_Norm, idx, axis=0)\n",
    "    y_mapped = np.delete(y_mapped, idx)\n",
    "\n",
    "  N = len(X_Norm)\n",
    "  train_end = int(0.6 * N)\n",
    "  test_end = train_end + int(0.2 * N)\n",
    "  \n",
    "  X_train = X_Norm[:train_end]\n",
    "  y_train = y_mapped[:train_end]\n",
    "  X_test = X_Norm[train_end:test_end]\n",
    "  y_test = y_mapped[train_end:test_end]\n",
    "  X_cv = X_Norm[test_end:]\n",
    "  y_cv = y_mapped[test_end:]\n",
    "\n",
    "  return X_train, y_train, X_test, y_test, X_cv, y_cv\n"
   ]
  },
  {
   "cell_type": "markdown",
   "metadata": {},
   "source": [
    "### Show the loaded training, testing, and cross validation sets. Note that all 1200 examples are used. ###\n",
    "This also shows how the load_and_process_data function de-skews the dataset."
   ]
  },
  {
   "cell_type": "code",
   "execution_count": 8,
   "metadata": {},
   "outputs": [
    {
     "name": "stdout",
     "output_type": "stream",
     "text": [
      "\n",
      "Amount of healthy plants in the original dataset 299\n",
      "Amount of moderately stressed plants in the original dataset 401\n",
      "Amount of highly stressed plants in the original dataset 500\n",
      "\n",
      "X_train data has the form: [-1.5666989  -1.1841392  -0.6663611  -0.43567633  1.03584462 -0.07229987\n",
      "  1.05174414  0.0526353  -0.4248877  -1.04321622 -0.7709725  -1.43137704]\n",
      "y_train data has the form: 2\n",
      "\n",
      "The shape of each set. Examples by features\n",
      "(720, 12)\n",
      "(720,)\n",
      "(240, 12)\n",
      "(240,)\n",
      "(240, 12)\n",
      "(240,)\n",
      "\n",
      "Amount of healthy plants 399\n",
      "Amount of moderately stressed plants 401\n",
      "Amount of highly stressed plants 400\n"
     ]
    }
   ],
   "source": [
    "# Load the sets\n",
    "X_train, y_train, X_test, y_test, X_cv, y_cv = load_and_process_data(\"./data/plant_health_data.csv\")\n",
    "print()\n",
    "\n",
    "# Show the data in the sets\n",
    "print(f\"X_train data has the form: {X_train[0]}\")\n",
    "print(f\"y_train data has the form: {y_train[0]}\")\n",
    "print()\n",
    "\n",
    "# Show the amount of data in each set. Note that 720 + 240 + 240 = 1200 which is the total amount of examples we have\n",
    "print(\"The shape of each set. Examples by features\")\n",
    "print(X_train.shape)\n",
    "print(y_train.shape)\n",
    "print(X_test.shape)\n",
    "print(y_test.shape)\n",
    "print(X_cv.shape)\n",
    "print(y_cv.shape)\n",
    "\n",
    "# Now let us check whether the dataset is de-skewed\n",
    "print(f\"\\nAmount of healthy plants {np.count_nonzero(y_train == 0) + np.count_nonzero(y_cv == 0) + np.count_nonzero(y_test == 0)}\")\n",
    "print(f\"Amount of moderately stressed plants {np.count_nonzero(y_train == 1) + np.count_nonzero(y_cv == 1) + np.count_nonzero(y_test == 1)}\")\n",
    "print(f\"Amount of highly stressed plants {np.count_nonzero(y_train == 2) + np.count_nonzero(y_cv == 2) + np.count_nonzero(y_test == 2)}\")\n"
   ]
  },
  {
   "cell_type": "markdown",
   "metadata": {},
   "source": [
    "### Find the best architecture from a group ### \n",
    "This function only uses dense layers, and though I could test convolutional layers, it runs fast enough that I see no clear benefit."
   ]
  },
  {
   "cell_type": "code",
   "execution_count": 5,
   "metadata": {},
   "outputs": [],
   "source": [
    "def test_model_architectures(X_train, y_train, X_cv, y_cv, epochs=25):\n",
    "  \"\"\"\n",
    "  Test various model architectures to find the best one.\n",
    "  Args:\n",
    "  The training set, cross validation set, and how many epochs to run. Defaults to 25 epochs.\n",
    "  Returns:\n",
    "  models: A list of all computed models based on differing layer architectures and activation parameters.\n",
    "          Note that all models use a softmax output as it is the only one we discussed for multiclassification\n",
    "  accuracies: A list of the training and testing accuracies for each model \n",
    "  \"\"\"\n",
    "  architectures = [\n",
    "    [60, 20], # 2 layers small\n",
    "    [120, 40],  # 2 layers\n",
    "    [150, 75, 30],  # 3 layers\n",
    "    [200, 100, 50, 25],  # 4 layers\n",
    "    [300, 150, 75, 50, 25]  # 5 layers\n",
    "  ]\n",
    "  models = []\n",
    "  accuracies = []\n",
    "  i = 0\n",
    "\n",
    "  # Run on Dense Layers with ReLU\n",
    "  for arch in architectures:\n",
    "    model = Sequential()\n",
    "    for units in arch:\n",
    "      model.add(Dense(units=units, activation=\"relu\"))\n",
    "    model.add(Dense(units=3, activation=\"softmax\"))  # Final output layer for 3 classes\n",
    "\n",
    "    model.compile(\n",
    "      loss=tf.keras.losses.SparseCategoricalCrossentropy(),\n",
    "      optimizer=tf.keras.optimizers.Adam(learning_rate=0.01),\n",
    "      metrics=['accuracy']\n",
    "    )\n",
    "    \n",
    "    model.fit(X_train, y_train, epochs=epochs, verbose=0)\n",
    "    _, cv_accuracy = model.evaluate(X_cv, y_cv, verbose=0)\n",
    "    _, train_accuracy = model.evaluate(X_train, y_train, verbose=0)\n",
    "    \n",
    "    accuracies.append([train_accuracy, cv_accuracy])\n",
    "    models.append(model)\n",
    "\n",
    "    print(f\"Finished with relu model {i}. Loop {i + 1} / {len(architectures)}\")\n",
    "    i += 1\n",
    "\n",
    "\n",
    "  i = 0\n",
    "  # Run on Dense Layers with sigmoid\n",
    "  for arch in architectures:\n",
    "    model = Sequential()\n",
    "    for units in arch:\n",
    "      model.add(Dense(units=units, activation=\"sigmoid\"))\n",
    "    model.add(Dense(units=3, activation=\"softmax\"))  # Final output layer for 3 classes\n",
    "\n",
    "    model.compile(\n",
    "      loss=tf.keras.losses.SparseCategoricalCrossentropy(),\n",
    "      optimizer=tf.keras.optimizers.Adam(learning_rate=0.01),\n",
    "      metrics=['accuracy']\n",
    "    )\n",
    "    \n",
    "    model.fit(X_train, y_train, epochs=epochs, verbose=0)\n",
    "    _, cv_accuracy = model.evaluate(X_cv, y_cv, verbose=0)\n",
    "    _, train_accuracy = model.evaluate(X_train, y_train, verbose=0)\n",
    "    \n",
    "    accuracies.append([train_accuracy, cv_accuracy])\n",
    "    models.append(model)\n",
    "\n",
    "    print(f\"Finished with sigmoid model {i}. Loop {i + 1} / {len(architectures)}\")\n",
    "    i += 1\n",
    "\n",
    "  i = 0\n",
    "  # Run on Dense Layers with eLU (Exponential linear units)\n",
    "  for arch in architectures:\n",
    "    model = Sequential()\n",
    "    for units in arch:\n",
    "      model.add(Dense(units=units, activation=\"elu\"))\n",
    "    model.add(Dense(units=3, activation=\"softmax\"))  # Final output layer for 3 classes\n",
    "\n",
    "    model.compile(\n",
    "      loss=tf.keras.losses.SparseCategoricalCrossentropy(),\n",
    "      optimizer=tf.keras.optimizers.Adam(learning_rate=0.01),\n",
    "      metrics=['accuracy']\n",
    "    )\n",
    "    \n",
    "    model.fit(X_train, y_train, epochs=30, verbose=0)\n",
    "    _, cv_accuracy = model.evaluate(X_cv, y_cv, verbose=0)\n",
    "    _, train_accuracy = model.evaluate(X_train, y_train, verbose=0)\n",
    "    \n",
    "    accuracies.append([train_accuracy, cv_accuracy])\n",
    "    models.append(model)\n",
    "\n",
    "    print(f\"Finished with elu model {i}. Loop {i + 1} / {len(architectures)}\")\n",
    "    i += 1\n",
    "\n",
    "  return models, accuracies"
   ]
  },
  {
   "cell_type": "markdown",
   "metadata": {},
   "source": [
    "In the code block below, the ReLU models generalized the worst while the Elu models did slightly better. However, the clear champions by far were the Sigmoid models. They all generalized very well and had low differences between the cross validation cost and the training cost. As for the specific layer and neuron count, it seemed that after running the above code a few times, model 8 had generalized the best and had the lowest difference between the training and testing accuracy."
   ]
  },
  {
   "cell_type": "code",
   "execution_count": 6,
   "metadata": {},
   "outputs": [
    {
     "name": "stdout",
     "output_type": "stream",
     "text": [
      "Finished with relu model 0. Loop 1 / 5\n",
      "Finished with relu model 1. Loop 2 / 5\n",
      "Finished with relu model 2. Loop 3 / 5\n",
      "Finished with relu model 3. Loop 4 / 5\n",
      "Finished with relu model 4. Loop 5 / 5\n",
      "Finished with sigmoid model 0. Loop 1 / 5\n",
      "Finished with sigmoid model 1. Loop 2 / 5\n",
      "Finished with sigmoid model 2. Loop 3 / 5\n",
      "Finished with sigmoid model 3. Loop 4 / 5\n",
      "Finished with sigmoid model 4. Loop 5 / 5\n",
      "Finished with elu model 0. Loop 1 / 5\n",
      "Finished with elu model 1. Loop 2 / 5\n",
      "Finished with elu model 2. Loop 3 / 5\n",
      "Finished with elu model 3. Loop 4 / 5\n",
      "Finished with elu model 4. Loop 5 / 5\n",
      "\n",
      "ReLU Models\n",
      "Model 0 has a training accuracy of 1.0 and a cv accuracy of 0.925000011920929 \n",
      "Model 1 has a training accuracy of 1.0 and a cv accuracy of 0.8666666746139526 \n",
      "Model 2 has a training accuracy of 1.0 and a cv accuracy of 0.8833333253860474 \n",
      "Model 3 has a training accuracy of 1.0 and a cv accuracy of 0.9041666388511658 \n",
      "Model 4 has a training accuracy of 1.0 and a cv accuracy of 0.8833333253860474 \n",
      "\n",
      "Sigmoid Models\n",
      "Model 5 has a training accuracy of 0.9972222447395325 and a cv accuracy of 0.9583333134651184 \n",
      "Model 6 has a training accuracy of 1.0 and a cv accuracy of 0.9624999761581421 \n",
      "Model 7 has a training accuracy of 0.9888888597488403 and a cv accuracy of 0.9583333134651184 \n",
      "Model 8 has a training accuracy of 0.9916666746139526 and a cv accuracy of 0.9833333492279053 \n",
      "Model 9 has a training accuracy of 0.9791666865348816 and a cv accuracy of 0.9458333253860474 \n",
      "\n",
      "Elu models\n",
      "Model 10 has a training accuracy of 0.9972222447395325 and a cv accuracy of 0.9375 \n",
      "Model 11 has a training accuracy of 0.9944444298744202 and a cv accuracy of 0.9041666388511658 \n",
      "Model 12 has a training accuracy of 0.9750000238418579 and a cv accuracy of 0.887499988079071 \n",
      "Model 13 has a training accuracy of 0.9430555701255798 and a cv accuracy of 0.8916666507720947 \n",
      "Model 14 has a training accuracy of 0.9527778029441833 and a cv accuracy of 0.8791666626930237 \n",
      "\n",
      "Best model overall is model 8 with a difference of 0.008333325386047363.\n"
     ]
    }
   ],
   "source": [
    "models, accuracies = test_model_architectures(X_train, y_train, X_cv, y_cv, 60)\n",
    "\n",
    "# Determine the accuracy of the model on the training and cross validation data. \n",
    "# Choose the one that has the lowest difference between the training and cross validation data.\n",
    "best_difference = 1.0\n",
    "for i in range(len(accuracies)):\n",
    "  if i == 0:\n",
    "    print(f\"\\nReLU Models\")\n",
    "  if i == 5:\n",
    "    print(f\"\\nSigmoid Models\")\n",
    "  if i == 10:\n",
    "    print(f\"\\nElu models\")\n",
    "  print(f\"Model {i} has a training accuracy of {accuracies[i][0]} and a cv accuracy of {accuracies[i][1]} \")\n",
    "  if accuracies[i][0] - accuracies[i][1] < best_difference:\n",
    "    model_number = i\n",
    "    best_difference = abs(accuracies[i][0] - accuracies[i][1])\n",
    "\n",
    "print(f\"\\nBest model overall is model {model_number} with a difference of {best_difference}.\")"
   ]
  },
  {
   "cell_type": "markdown",
   "metadata": {},
   "source": [
    "### The function below finds the optimal lambda value ###\n",
    "This function runs a set of differing lambda values on the function I determined to be best in the above code."
   ]
  },
  {
   "cell_type": "code",
   "execution_count": 7,
   "metadata": {},
   "outputs": [],
   "source": [
    "def test_optimal_lambda(epochs=100):\n",
    "  \"\"\"\n",
    "  Test various lambda parameters to find the best one.\n",
    "  Args:\n",
    "  How many epochs to run. Defaults to 100 epochs.\n",
    "  Returns:\n",
    "  lambda_models: A list of all computed models based on differing lambda values.\n",
    "  lambda_accuracies: A list of the training and testing accuracies for each model\n",
    "  lambdas: the lambda values used to train each model\n",
    "  \"\"\"\n",
    "  # tf.random.set_seed(0)\n",
    "  lambdas = [0.0, 0.000001, 0.00001, 0.00005, 0.001, 0.01, 0.1]\n",
    "  lambda_models= []\n",
    "  lambda_accuracies = []\n",
    "  i = 0\n",
    "  for lambda_ in lambdas:\n",
    "    lambda_model = Sequential()\n",
    "    lambda_model.add(Dense(units=200, activation=\"sigmoid\", \n",
    "                           kernel_regularizer=tf.keras.regularizers.l2(lambda_)))\n",
    "    lambda_model.add(Dense(units=100, activation=\"sigmoid\", \n",
    "                           kernel_regularizer=tf.keras.regularizers.l2(lambda_)))\n",
    "    lambda_model.add(Dense(units=50, activation=\"sigmoid\", \n",
    "                           kernel_regularizer=tf.keras.regularizers.l2(lambda_)))\n",
    "    lambda_model.add(Dense(units=25, activation=\"sigmoid\", \n",
    "                           kernel_regularizer=tf.keras.regularizers.l2(lambda_)))\n",
    "    lambda_model.add(Dense(units=3, activation=\"softmax\"))  # Final output layer for 3 classes\n",
    "\n",
    "    lambda_model.compile(\n",
    "      loss=tf.keras.losses.SparseCategoricalCrossentropy(),\n",
    "      optimizer=tf.keras.optimizers.Adam(learning_rate=0.01),\n",
    "      metrics=['accuracy']\n",
    "    )\n",
    "    \n",
    "    lambda_model.fit(X_train, y_train, epochs=epochs, verbose=0)\n",
    "    _, cv_accuracy = lambda_model.evaluate(X_cv, y_cv, verbose=0)\n",
    "    _, train_accuracy = lambda_model.evaluate(X_train, y_train, verbose=0)\n",
    "    \n",
    "    lambda_accuracies.append([train_accuracy, cv_accuracy])\n",
    "    lambda_models.append(lambda_model)\n",
    "\n",
    "    print(f\"Finished with lambda {i}. Loop {i + 1} / {len(lambdas)}\")\n",
    "    i += 1\n",
    "\n",
    "  return lambda_models, lambda_accuracies, lambdas"
   ]
  },
  {
   "cell_type": "markdown",
   "metadata": {},
   "source": [
    "In this code block, we see which lambda value is determined to be the best. Note that some lambda values drive the model to have too low weights and prevent a high training and cross validation accuracy. After running a few times, it seems that no lambda value or a lambda value of 0.00005 is optimal. In this case, I decide to use a lambda value of 0.00005."
   ]
  },
  {
   "cell_type": "code",
   "execution_count": 8,
   "metadata": {},
   "outputs": [
    {
     "name": "stdout",
     "output_type": "stream",
     "text": [
      "Finished with lambda 0. Loop 1 / 7\n",
      "Finished with lambda 1. Loop 2 / 7\n",
      "Finished with lambda 2. Loop 3 / 7\n",
      "Finished with lambda 3. Loop 4 / 7\n",
      "Finished with lambda 4. Loop 5 / 7\n",
      "Finished with lambda 5. Loop 6 / 7\n",
      "Finished with lambda 6. Loop 7 / 7\n",
      "\n",
      "Model 0 has a training accuracy of 1.0 and a cv accuracy of 0.9291666746139526 \n",
      "Model 1 has a training accuracy of 1.0 and a cv accuracy of 0.925000011920929 \n",
      "Model 2 has a training accuracy of 1.0 and a cv accuracy of 0.9375 \n",
      "Model 3 has a training accuracy of 0.9944444298744202 and a cv accuracy of 0.9458333253860474 \n",
      "Model 4 has a training accuracy of 0.3652777671813965 and a cv accuracy of 0.22083333134651184 \n",
      "Model 5 has a training accuracy of 0.3652777671813965 and a cv accuracy of 0.22083333134651184 \n",
      "Model 6 has a training accuracy of 0.3652777671813965 and a cv accuracy of 0.22083333134651184 \n",
      "\n",
      "Best model overall is model 3 with a difference of 0.0486111044883728.\n",
      "\n",
      "Other contenders include: (If there is no line below, no model got above a cv accuracy of 94%)\n",
      "Model 3 with a lambda value of 5e-05 and a cross validation accuracy of 0.9458333253860474\n"
     ]
    }
   ],
   "source": [
    "lambda_models, lambda_accuracies, lambdas = test_optimal_lambda(250)\n",
    "print()\n",
    "\n",
    "# Determine the accuracy of the model on the training and cross validation data with differing lambda values. \n",
    "# Choose the one that has the lowest difference between the training and cross validation data.\n",
    "best_difference = 1.0\n",
    "other_models = []\n",
    "for i in range(len(lambda_accuracies)):\n",
    "  print(f\"Model {i} has a training accuracy of {lambda_accuracies[i][0]} and a cv accuracy of {lambda_accuracies[i][1]} \")\n",
    "  if lambda_accuracies[i][0] - lambda_accuracies[i][1] < best_difference:\n",
    "    model_number = i\n",
    "    best_difference = abs(lambda_accuracies[i][0] - lambda_accuracies[i][1])\n",
    "  if lambda_accuracies[i][1] > 0.94:\n",
    "    other_models.append(i)\n",
    "\n",
    "print(f\"\\nBest model overall is model {model_number} with a difference of {best_difference}.\")\n",
    "print(f\"\\nOther contenders include: (If there is no line below, no model got above a cv accuracy of 94%)\")\n",
    "for i in other_models:\n",
    "  print(f\"Model {i} with a lambda value of {lambdas[i]} and a cross validation accuracy of {lambda_accuracies[i][1]}\")"
   ]
  },
  {
   "cell_type": "markdown",
   "metadata": {},
   "source": [
    "### Finding an Optimal Alpha Value ### \n",
    "The below function tests a variety of alpha values to determine one that converges quickly and in a stable manner."
   ]
  },
  {
   "cell_type": "code",
   "execution_count": 13,
   "metadata": {},
   "outputs": [],
   "source": [
    "def test_optimal_alpha(epochs=100):\n",
    "  \"\"\"\n",
    "  Test various alpha parameters to find the best one.\n",
    "  Args:\n",
    "  How many epochs to run. Defaults to 100 epochs.\n",
    "  Returns:\n",
    "  alpha_models: A list of all computed models based on differing alpha values.\n",
    "  alpha_accuracies: A list of the training and testing accuracies for each model\n",
    "  alphas: The alpha values used to train each model\n",
    "  histories: The training histories of each model to be used in plotting\n",
    "  \"\"\"\n",
    "  tf.random.set_seed(0)\n",
    "  alphas = [0.00005, 0.0001, 0.0005, 0.001, 0.005, 0.01, 0.05, 0.1, 0.5]\n",
    "  alpha_models= []\n",
    "  alpha_accuracies = []\n",
    "  histories = []\n",
    "  i = 0\n",
    "  for alpha in alphas:\n",
    "    alpha_model = Sequential()\n",
    "    alpha_model.add(Dense(units=200, activation=\"sigmoid\", \n",
    "                           kernel_regularizer=tf.keras.regularizers.l2(0.00005)))\n",
    "    alpha_model.add(Dense(units=100, activation=\"sigmoid\", \n",
    "                           kernel_regularizer=tf.keras.regularizers.l2(0.00005)))\n",
    "    alpha_model.add(Dense(units=50, activation=\"sigmoid\", \n",
    "                           kernel_regularizer=tf.keras.regularizers.l2(0.00005)))\n",
    "    alpha_model.add(Dense(units=25, activation=\"sigmoid\", \n",
    "                           kernel_regularizer=tf.keras.regularizers.l2(0.00005)))\n",
    "    alpha_model.add(Dense(units=3, activation=\"softmax\"))  # Final output layer for 3 classes\n",
    "\n",
    "    alpha_model.compile(\n",
    "      loss=tf.keras.losses.SparseCategoricalCrossentropy(),\n",
    "      optimizer=tf.keras.optimizers.Adam(learning_rate=alpha),\n",
    "      metrics=['accuracy']\n",
    "    )\n",
    "    \n",
    "    history = alpha_model.fit(X_train, y_train, epochs=epochs, verbose=0)\n",
    "    _, cv_accuracy = alpha_model.evaluate(X_cv, y_cv, verbose=0)\n",
    "    _, train_accuracy = alpha_model.evaluate(X_train, y_train, verbose=0)\n",
    "    \n",
    "    alpha_accuracies.append([train_accuracy, cv_accuracy])\n",
    "    alpha_models.append(alpha_model)\n",
    "    histories.append(history)\n",
    "    \n",
    "    print(f\"Finished with alpha value {alpha}. Loop {i + 1} / {len(alphas)}\")\n",
    "    i += 1\n",
    "\n",
    "  return alpha_models, alpha_accuracies, alphas, histories"
   ]
  },
  {
   "cell_type": "code",
   "execution_count": null,
   "metadata": {},
   "outputs": [
    {
     "name": "stdout",
     "output_type": "stream",
     "text": [
      "Finished with alpha value 5e-05. Loop 1 / 9\n",
      "Finished with alpha value 0.0001. Loop 2 / 9\n",
      "Finished with alpha value 0.0005. Loop 3 / 9\n",
      "Finished with alpha value 0.001. Loop 4 / 9\n",
      "Finished with alpha value 0.005. Loop 5 / 9\n",
      "Finished with alpha value 0.01. Loop 6 / 9\n",
      "Finished with alpha value 0.05. Loop 7 / 9\n",
      "Finished with alpha value 0.1. Loop 8 / 9\n",
      "Finished with alpha value 0.5. Loop 9 / 9\n"
     ]
    }
   ],
   "source": [
    "alpha_models, alpha_accuracies, alphas, histories = test_optimal_alpha(epochs=500)"
   ]
  },
  {
   "cell_type": "markdown",
   "metadata": {},
   "source": [
    "### Visualizing the Training based on Alpha Values###\n",
    "The function below plots each Alpha value and the corresponding training data to see which converges best."
   ]
  },
  {
   "cell_type": "code",
   "execution_count": 10,
   "metadata": {},
   "outputs": [],
   "source": [
    "def plot_training_histories(histories, alphas):\n",
    "    \"\"\"\n",
    "    Plot the training loss history for each alpha value.\n",
    "    \n",
    "    Args:\n",
    "    histories: List of training histories for each model.\n",
    "    alphas: List of alpha values used for training.\n",
    "    \"\"\"\n",
    "    import matplotlib.pyplot as plt\n",
    "\n",
    "    num_alphas = len(alphas)\n",
    "    fig, axes = plt.subplots(1, num_alphas, figsize=(15, 5), sharey=True)\n",
    "\n",
    "    if num_alphas == 1:\n",
    "        axes = [axes]  # Ensure axes is iterable if only one plot\n",
    "\n",
    "    for i, (history, alpha) in enumerate(zip(histories, alphas)):\n",
    "        ax = axes[i]\n",
    "        ax.plot(history.history['loss'], label='loss')\n",
    "        ax.set_title(f\"Alpha: {alpha}\")\n",
    "        ax.set_xlabel(\"Epoch\")\n",
    "        ax.set_ylabel(\"Loss\")\n",
    "        ax.grid(True)\n",
    "        ax.legend()\n",
    "\n",
    "    plt.tight_layout()\n",
    "    plt.show()\n"
   ]
  },
  {
   "cell_type": "code",
   "execution_count": 17,
   "metadata": {},
   "outputs": [
    {
     "data": {
      "image/png": "[encoded data removed]",
      "text/plain": [
       "<Figure size 1500x500 with 9 Axes>"
      ]
     },
     "metadata": {},
     "output_type": "display_data"
    }
   ],
   "source": [
    "plot_training_histories(histories, alphas)"
   ]
  },
  {
   "cell_type": "markdown",
   "metadata": {},
   "source": [
    "In the plots above, we can see that an Alpha value of 0.0005 converges to the lowest loss without being too unstable. The other alpha values either diverge, converge to a higher cost, or are generally unstable. "
   ]
  },
  {
   "cell_type": "markdown",
   "metadata": {},
   "source": [
    "### Determine the Final Model's Accuracy ###\n",
    "After finding an optimal model architecture, determining an optimal lambda, and an optimal alpha value, we can test how well the model generalizes on the testing data."
   ]
  },
  {
   "cell_type": "code",
   "execution_count": 23,
   "metadata": {},
   "outputs": [],
   "source": [
    "def test_best_found_model(best_model, X, y):\n",
    "  \"\"\"\n",
    "  Test the best-found model on the testing data to determine its accuracy.\n",
    "\n",
    "  Args:\n",
    "  best_model: The model identified as having the best performance in the graphs above\n",
    "  X: Testing dataset features\n",
    "  y: Classification labels for the dataset\n",
    "\n",
    "  Returns:\n",
    "  test_accuracy: The accuracy of the model on the testing data.\n",
    "  \"\"\"\n",
    "  _, test_accuracy = best_model.evaluate(X, y, verbose=0)\n",
    "  return test_accuracy\n"
   ]
  },
  {
   "cell_type": "code",
   "execution_count": 24,
   "metadata": {},
   "outputs": [
    {
     "name": "stdout",
     "output_type": "stream",
     "text": [
      "The final model's accuracy on the testing data is: 97.08333611488342%\n",
      "The final model's accuracy on the training data is: 99.58333373069763%\n",
      "The final model's accuracy on the cross-validation data is: 98.7500011920929%\n"
     ]
    }
   ],
   "source": [
    "test_accuracy = test_best_found_model(alpha_models[2], X_test, y_test)\n",
    "train_accuracy = test_best_found_model(alpha_models[2], X_train, y_train)\n",
    "cv_accuracy = test_best_found_model(alpha_models[2], X_cv, y_cv)\n",
    "\n",
    "print(f\"The final model's accuracy on the testing data is: {test_accuracy * 100}%\")\n",
    "print(f\"The final model's accuracy on the training data is: {train_accuracy * 100}%\")\n",
    "print(f\"The final model's accuracy on the cross-validation data is: {cv_accuracy * 100}%\")\n"
   ]
  },
  {
   "cell_type": "markdown",
   "metadata": {},
   "source": [
    "In the above code, we can see that the model has little variation between the training and testing data, showing it generalized extremely well. Furthermore, the similar accuracy on cv, test, and train show the model has low variance, and the high percentages show the model has low bias."
   ]
  }
 ],
 "metadata": {
  "kernelspec": {
   "display_name": "my_tf_env",
   "language": "python",
   "name": "python3"
  },
  "language_info": {
   "codemirror_mode": {
    "name": "ipython",
    "version": 3
   },
   "file_extension": ".py",
   "mimetype": "text/x-python",
   "name": "python",
   "nbconvert_exporter": "python",
   "pygments_lexer": "ipython3",
   "version": "3.9.18"
  }
 },
 "nbformat": 4,
 "nbformat_minor": 2
}
